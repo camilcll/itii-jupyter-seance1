{
 "cells": [
  {
   "cell_type": "raw",
   "metadata": {},
   "source": [
    "#Exo 1"
   ]
  },
  {
   "cell_type": "code",
   "execution_count": 3,
   "metadata": {},
   "outputs": [
    {
     "name": "stdout",
     "output_type": "stream",
     "text": [
      "Entrer un rayon 10\n",
      "Entrer une hauteur 10\n",
      "Le volume du cone est :  1047.1975511965977\n"
     ]
    }
   ],
   "source": [
    "import math\n",
    "\n",
    "rayon = float(input(\"Entrer un rayon \"))\n",
    "hauteur = float(input(\"Entrer une hauteur \"))\n",
    "\n",
    "print(\"Le volume du cone est : \", (1/3)*math.pi*rayon*rayon*hauteur)"
   ]
  },
  {
   "cell_type": "markdown",
   "metadata": {},
   "source": [
    "#Exo2\n",
    "1)"
   ]
  },
  {
   "cell_type": "code",
   "execution_count": 43,
   "metadata": {},
   "outputs": [
    {
     "name": "stdout",
     "output_type": "stream",
     "text": [
      "Entrer un n2\n",
      "9.0\n"
     ]
    }
   ],
   "source": [
    "import math\n",
    "\n",
    "n = int(input(\"Entrer un n\"))\n",
    "somme = 0\n",
    "\n",
    "for i in range(n+1): #boucle de 1 a n\n",
    "    somme += math.pow(i,3) \n",
    "    \n",
    "print(somme)"
   ]
  },
  {
   "cell_type": "raw",
   "metadata": {},
   "source": [
    "2)\n"
   ]
  },
  {
   "cell_type": "code",
   "execution_count": 46,
   "metadata": {},
   "outputs": [
    {
     "name": "stdout",
     "output_type": "stream",
     "text": [
      "Entrer un n 2\n",
      "3\n"
     ]
    }
   ],
   "source": [
    "n = int(input(\"Entrer un n \"))\n",
    "somme = 0\n",
    "\n",
    "for i in range(n+1): #boucle de 1 a n\n",
    "    somme += i\n",
    "        \n",
    "print(somme)"
   ]
  },
  {
   "cell_type": "raw",
   "metadata": {},
   "source": [
    "#Exo 3\n",
    "1)"
   ]
  },
  {
   "cell_type": "code",
   "execution_count": 49,
   "metadata": {},
   "outputs": [
    {
     "name": "stdout",
     "output_type": "stream",
     "text": [
      "300\n"
     ]
    }
   ],
   "source": [
    "ocu = 0\n",
    "\n",
    "for i in range(1,999):\n",
    "    i = str(i) #cast du int en str pour plus de faciliter\n",
    "    for j in i:  #parcours de chaque mot\n",
    "        if j == \"1\": #recherche de la lettre 1 dans chaque mots\n",
    "            ocu+=1\n",
    "            \n",
    "print(ocu)\n"
   ]
  },
  {
   "cell_type": "raw",
   "metadata": {},
   "source": [
    "#Exo 4"
   ]
  },
  {
   "cell_type": "code",
   "execution_count": null,
   "metadata": {},
   "outputs": [],
   "source": [
    "pt = "
   ]
  }
 ],
 "metadata": {
  "kernelspec": {
   "display_name": "Python 3",
   "language": "python",
   "name": "python3"
  },
  "language_info": {
   "codemirror_mode": {
    "name": "ipython",
    "version": 3
   },
   "file_extension": ".py",
   "mimetype": "text/x-python",
   "name": "python",
   "nbconvert_exporter": "python",
   "pygments_lexer": "ipython3",
   "version": "3.8.3"
  }
 },
 "nbformat": 4,
 "nbformat_minor": 4
}
